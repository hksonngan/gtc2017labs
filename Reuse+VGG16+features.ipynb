{
 "cells": [
  {
   "cell_type": "markdown",
   "metadata": {},
   "source": [
    "This notebook allows you to play with Theano and Lasagne.\n",
    "\n",
    "It uses a pre-trained VGG16 network. It reuses the last layers before the final prediction as the features for a new very simple predictor. We use those features to build a KNN on a new dataset of 2 classes (dogs and donuts). This shows we can reuse the pre-trained network with new classes. This was used in order to be super fast to train and allow you to play with it during this lab.\n",
    "\n",
    "What you can try:\n",
    "- Use a different layer's outputs as your features. How does this changes the prediction performance?\n",
    "- If you keep the noise from the dropout to compute the features, does this change the prediction?"
   ]
  },
  {
   "cell_type": "code",
   "execution_count": null,
   "metadata": {
    "collapsed": false
   },
   "outputs": [],
   "source": [
    "import collections\n",
    "import cPickle\n",
    "import glob\n",
    "import io\n",
    "import sys\n",
    "\n",
    "from lasagne.utils import floatX\n",
    "import numpy as np\n",
    "import lasagne, theano\n",
    "\n",
    "#To enable the GPU, run the following code\n",
    "import theano.gpuarray\n",
    "theano.config.floatX='float32'\n",
    "theano.gpuarray.use('cuda')\n",
    "\n",
    "# vgg16 includes the model definition and function to read and preprocess images from VGG16\n",
    "from vgg16 import build_model, prep_image\n",
    "\n",
    "# Populating the interactive namespace from numpy and matplotlib\n",
    "%pylab inline"
   ]
  },
  {
   "cell_type": "markdown",
   "metadata": {},
   "source": [
    "Functions for the KNN"
   ]
  },
  {
   "cell_type": "code",
   "execution_count": null,
   "metadata": {
    "collapsed": false
   },
   "outputs": [],
   "source": [
    "def minkowski_mat(x, m, p=2.0):\n",
    "    \"\"\" Compute the minkowski distance between a feature vector `x`\n",
    "    and a matrix of feature vectors `x`.\n",
    "    \"\"\"\n",
    "    diff = (np.abs(x - m)**p).sum(axis=1)**(1.0/p)\n",
    "    return diff\n",
    "\n",
    "def knn_idx(x, features, p=2):\n",
    "    \"\"\"Return the row index of the most similar features compared to `x`.\"\"\"\n",
    "    dist = minkowski_mat(x, features, p=p)\n",
    "    return np.argmin(dist)"
   ]
  },
  {
   "cell_type": "markdown",
   "metadata": {},
   "source": [
    "Create a new datasets with 2 new classes"
   ]
  },
  {
   "cell_type": "code",
   "execution_count": null,
   "metadata": {
    "collapsed": false
   },
   "outputs": [],
   "source": [
    "class1_dir = './dog/'\n",
    "class1_name = 'chien'\n",
    "class2_dir = './donut/'\n",
    "class2_name = 'beigne'\n",
    "test_dir = './test/'\n",
    "\n",
    "# List files under the \"dog/\" directory\n",
    "class1_files = glob.glob(class1_dir + '*')\n",
    "# Load the images\n",
    "class1_images = [plt.imread(io.BytesIO(open(f).read()), f.split('.')[-1]) for f in class1_files]\n",
    "# Build the target classes\n",
    "class1_targets = [class1_name] * len(class1_files)\n",
    "\n",
    "# Do the same for the second class\n",
    "class2_files = glob.glob(class2_dir + '*')\n",
    "class2_images = [plt.imread(io.BytesIO(open(f).read()), f.split('.')[-1]) for f in class2_files]\n",
    "class2_targets = [class2_name] * len(class2_files)\n",
    "\n",
    "# Create the dataset by combining both classes\n",
    "train_files = class1_files + class2_files\n",
    "train_images = class1_images + class2_images\n",
    "train_targets = class1_targets + class2_targets\n",
    "\n",
    "# Read the test files\n",
    "test_files = glob.glob(test_dir + '*')\n",
    "test_images = [plt.imread(io.BytesIO(open(f).read()), f.split('.')[-1]) for f in test_files]"
   ]
  },
  {
   "cell_type": "markdown",
   "metadata": {},
   "source": [
    "Load the model and the pre-trained weights.\n",
    "\n",
    "Here the model is stored in a dict `d`. The keys are the layer names and the values of the corresponding layers.\n",
    "\n",
    "It also prints the different layer names in the model."
   ]
  },
  {
   "cell_type": "code",
   "execution_count": null,
   "metadata": {
    "collapsed": false
   },
   "outputs": [],
   "source": [
    "# vgg16.pkl contains the trained weights and the mean values needed for the preprocessing.\n",
    "with open('vgg16.pkl', 'r') as f:\n",
    "    d = cPickle.load(f)\n",
    "\n",
    "MEAN_IMAGE = d['mean value']\n",
    "# Get the Lasagne model\n",
    "net = build_model()\n",
    "# Set the pre-trained weights\n",
    "lasagne.layers.set_all_param_values(net['prob'], d['param values'])\n",
    "\n",
    "# The different layer outputs you can reuse for the prediction\n",
    "print net.keys()"
   ]
  },
  {
   "cell_type": "markdown",
   "metadata": {},
   "source": [
    "Compile the Theano function and compute the features\n",
    "\n",
    "This is the part that you can change"
   ]
  },
  {
   "cell_type": "code",
   "execution_count": null,
   "metadata": {
    "collapsed": false
   },
   "outputs": [],
   "source": [
    "# Get the graph that computes the last feature layers (fc8) of the model\n",
    "# deterministic=True makes the Dropout layers do nothing as we don't train it\n",
    "output = lasagne.layers.get_output(net['fc8'], deterministic=True)\n",
    "# Compile the Theano function to be able to execute it.\n",
    "compute_last = theano.function([net['input'].input_var], output)\n",
    "\n",
    "def compute_feats(images):\n",
    "    \"\"\"Compute the features of many images.\"\"\"\n",
    "    preps = []\n",
    "    for img in images:\n",
    "        # prep_image returns a 4d tensor with only 1 image\n",
    "        # remove the first dimensions to batch them ourself\n",
    "        preps.append(prep_image(img, MEAN_IMAGE)[1][0])\n",
    "    # Batch compute the features.\n",
    "    return compute_last(preps)\n",
    "\n",
    "\n",
    "# Compute the features of the train and test datasets\n",
    "train_feats = compute_feats(train_images)\n",
    "test_feats = compute_feats(test_images)\n",
    "\n",
    "# Show the name of the file corresponding to example 0\n",
    "print(test_files[0])\n",
    "\n",
    "# Call knn_idx to get the nearest neighbor of this example\n",
    "idx0 = knn_idx(test_feats[0], train_feats)\n",
    "\n",
    "# Show the name of this training file\n",
    "print(train_files[idx0])\n",
    "\n",
    "# Show the predicted class\n",
    "print(train_targets[idx0])"
   ]
  },
  {
   "cell_type": "markdown",
   "metadata": {},
   "source": [
    "Some functions to plot the prediction and the closest images"
   ]
  },
  {
   "cell_type": "code",
   "execution_count": null,
   "metadata": {
    "collapsed": false
   },
   "outputs": [],
   "source": [
    "def most_frequent(label_list):\n",
    "    return collections.Counter(label_list).most_common()[0][0]\n",
    "\n",
    "def knn_idx(x, features, p=2, k=1):\n",
    "    dist = minkowski_mat(x, features, p=p)\n",
    "    return np.argsort(dist)[:k]\n",
    "\n",
    "\n",
    "def plot_knn(test_image, test_feat, train_images, train_feats, train_classes, k=1):\n",
    "    knn_i = knn_idx(test_feat, train_feats, k=k)\n",
    "    knn_images = [train_images[i] for i in knn_i]\n",
    "    knn_classes = [train_classes[i] for i in knn_i]\n",
    "    pred_class = most_frequent(knn_classes)\n",
    "    figure(figsize=(12, 4))\n",
    "    subplot(1, k+2, 1)\n",
    "    imshow(prep_image(test_image, MEAN_IMAGE)[0])\n",
    "    axis('off')\n",
    "    title('prediction : ' + pred_class)\n",
    "    for i in xrange(k):\n",
    "        knn_preproc = prep_image(knn_images[i], MEAN_IMAGE)[0]\n",
    "        subplot(1, k+2, i+3)\n",
    "        imshow(knn_preproc)\n",
    "        axis('off')\n",
    "        title(knn_classes[i])\n"
   ]
  },
  {
   "cell_type": "code",
   "execution_count": null,
   "metadata": {
    "collapsed": false
   },
   "outputs": [],
   "source": [
    "for i in range(len(test_images)):\n",
    "    plot_knn(test_images[i], test_feats[i], train_images, train_feats, train_targets, k=7)"
   ]
  },
  {
   "cell_type": "code",
   "execution_count": null,
   "metadata": {
    "collapsed": true
   },
   "outputs": [],
   "source": []
  }
 ],
 "metadata": {
  "kernelspec": {
   "display_name": "Python 2",
   "language": "python",
   "name": "python2"
  },
  "language_info": {
   "codemirror_mode": {
    "name": "ipython",
    "version": 2
   },
   "file_extension": ".py",
   "mimetype": "text/x-python",
   "name": "python",
   "nbconvert_exporter": "python",
   "pygments_lexer": "ipython2",
   "version": "2.7.13"
  }
 },
 "nbformat": 4,
 "nbformat_minor": 0
}
