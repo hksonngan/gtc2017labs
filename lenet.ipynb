{
 "cells": [
  {
   "cell_type": "markdown",
   "metadata": {},
   "source": [
    "This notebook demonstrates and allow you to play with the LeNet model.\n",
    "\n",
    "The first cell will enable the GPU. Execute it(CTRL-enter).\n",
    "\n",
    "The second cell loads the example in a new cell. Execute it.\n",
    "\n",
    "Then, you can look at that example and run it to get it defined.\n",
    "\n",
    "Next, there is a cell that runs the model. It allows you to play with some of the hyper-parameters.\n",
    "\n",
    "You can change the example code itself. You can run the load again the original code in a new cell by running again the `load` cell again.\n",
    "\n",
    "This example takes about 9m to execute in the VM (GRID k520 with CuDNN v2 rc3).\n",
    "\n",
    "To see the other files used by lenet.py run that command in a new cell: '%load logistic_sgd.py' or '%load mlp.py'.\n",
    "\n",
    "Possible changes you could try:\n",
    "- change the non linearity of the convolution to rectifier unit.\n",
    "- add an extra mlp layer.\n",
    "- limit the number of epoch of training to allow iterating more rapidly on code change."
   ]
  },
  {
   "cell_type": "code",
   "execution_count": null,
   "metadata": {
    "collapsed": false
   },
   "outputs": [],
   "source": [
    "# To enable the GPU, run the following code\n",
    "import theano.gpuarray\n",
    "theano.config.floatX='float32'\n",
    "theano.gpuarray.use('cuda')"
   ]
  },
  {
   "cell_type": "code",
   "execution_count": null,
   "metadata": {
    "collapsed": false
   },
   "outputs": [],
   "source": [
    "%load lenet.py"
   ]
  },
  {
   "cell_type": "code",
   "execution_count": null,
   "metadata": {
    "collapsed": false
   },
   "outputs": [],
   "source": [
    "import gzip\n",
    "import cPickle\n",
    "\n",
    "evaluate_lenet5(learning_rate=0.1, n_epochs=200,\n",
    "                dataset='mnist.pkl.gz',\n",
    "                nkerns=[20, 50], batch_size=500)"
   ]
  }
 ],
 "metadata": {
  "kernelspec": {
   "display_name": "Python 2",
   "language": "python",
   "name": "python2"
  },
  "language_info": {
   "codemirror_mode": {
    "name": "ipython",
    "version": 2
   },
   "file_extension": ".py",
   "mimetype": "text/x-python",
   "name": "python",
   "nbconvert_exporter": "python",
   "pygments_lexer": "ipython2",
   "version": "2.7.13"
  }
 },
 "nbformat": 4,
 "nbformat_minor": 0
}
